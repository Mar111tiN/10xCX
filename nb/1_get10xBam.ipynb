{
 "cells": [
  {
   "cell_type": "code",
   "execution_count": null,
   "metadata": {
    "ExecuteTime": {
     "end_time": "2021-06-23T10:38:11.636602Z",
     "start_time": "2021-06-23T10:38:11.608888Z"
    }
   },
   "outputs": [],
   "source": [
    "# get the code\n",
    "import sys\n",
    "import os\n",
    "\n",
    "# HOME\n",
    "home = os.getenv(\"HOME\")\n",
    "\n",
    "sys.path.append(os.path.join(home, 'Sites/Bio/10xCX/code'))\n",
    "# import package functions\n",
    "from script_utils_10x import show_output, get_config\n",
    "\n",
    "# standard paths\n",
    "static = os.path.join(home, \"Dropbox/Icke/Work/static\")\n",
    "tooldata = os.path.join(home, \"Dropbox/Icke/Work/somVar/tooldata\")\n",
    "\n",
    "\n",
    " \n",
    "cx_bams = os.path.join(tooldata, \"10xCX/bam\")\n",
    "output_path = os.path.join(tooldata, \"10xCX/output\")\n"
   ]
  },
  {
   "cell_type": "code",
   "execution_count": null,
   "metadata": {
    "ExecuteTime": {
     "end_time": "2021-06-23T10:38:12.508242Z",
     "start_time": "2021-06-23T10:38:12.496546Z"
    }
   },
   "outputs": [],
   "source": [
    "config = get_config(\n",
    "    \"../config/config_10x.yaml\", \n",
    "    local_config=dict(\n",
    "        mawk_path=\"../shell\",\n",
    "    ))\n",
    "config"
   ]
  },
  {
   "cell_type": "markdown",
   "metadata": {},
   "source": [
    "## run code"
   ]
  },
  {
   "cell_type": "code",
   "execution_count": null,
   "metadata": {
    "ExecuteTime": {
     "end_time": "2021-06-23T10:38:13.577901Z",
     "start_time": "2021-06-23T10:38:13.572712Z"
    }
   },
   "outputs": [],
   "source": [
    "from bam2csv import detect_CXCR3Alt"
   ]
  },
  {
   "cell_type": "code",
   "execution_count": null,
   "metadata": {
    "ExecuteTime": {
     "end_time": "2021-06-23T10:38:16.766124Z",
     "start_time": "2021-06-23T10:38:14.413866Z"
    }
   },
   "outputs": [],
   "source": [
    "bam_file = \"hMelanoma_5prime_Connect_90x2.bam\"\n",
    "intron=[71616506,71616845]\n",
    "alt_df = detect_CXCR3Alt(bam_file, intron=intron, config=config)"
   ]
  },
  {
   "cell_type": "code",
   "execution_count": null,
   "metadata": {
    "ExecuteTime": {
     "end_time": "2021-06-23T10:38:18.977358Z",
     "start_time": "2021-06-23T10:38:18.964394Z"
    }
   },
   "outputs": [],
   "source": [
    "alt_df"
   ]
  },
  {
   "cell_type": "markdown",
   "metadata": {},
   "source": [
    "## convert bam file to df"
   ]
  },
  {
   "cell_type": "code",
   "execution_count": null,
   "metadata": {
    "ExecuteTime": {
     "end_time": "2021-06-23T10:07:07.977922Z",
     "start_time": "2021-06-23T10:07:07.956158Z"
    }
   },
   "outputs": [],
   "source": [
    "def bam2df(bam_file, region=\"\", bed=\"\", config={}):\n",
    "    \"\"\"\n",
    "    wrapper building CLI chain around the core tool bam2csv.mawk\n",
    "\n",
    "    \"\"\"\n",
    "\n",
    "    # PARAMS\n",
    "    # unwrap mawk tools\n",
    "    def mawk(tool):\n",
    "        return os.path.join(config[\"mawk_path\"], f\"{tool}.mawk\")\n",
    "\n",
    "    c = config[\"10x\"]\n",
    "    p = config[\"paths\"]\n",
    "    bam_path = os.path.join(os.getenv(\"HOME\"), p[\"bampath\"])\n",
    "    # get the full bam file path\n",
    "    if not bam_file.startswith(\"/\"):\n",
    "        bam_file = os.path.join(bam_path, bam_file)\n",
    "\n",
    "    # create the basic command and unpack required params\n",
    "\n",
    "    # ##### FILTERBED\n",
    "    sam_cmd = f\"samtools view {bam_file}\"\n",
    "    if region:\n",
    "        sam_cmd += f\" -r {region}\"\n",
    "    if bed:\n",
    "        sam_cmd += f\" -l {bed}\"\n",
    "\n",
    "    b2c_cmd = f\"{mawk('bam2csv')} -c CHR,START,FLAG,MAPQ,CIGAR,LENGTH,SEQ -t CB,UB\"\n",
    "\n",
    "    cmd = f\"{sam_cmd} | {b2c_cmd}\"\n",
    "\n",
    "    try:\n",
    "        bam_df = cmd2df(cmd, show=True, multi=False)\n",
    "    except Exception as e:\n",
    "        show_output(f\"There was an error using shell command <<{e}>>\", color=\"warning\")\n",
    "        return cmd\n",
    "    bam_df = bam_df.rename(\n",
    "        dict(\n",
    "            CHR=\"Chr\",\n",
    "            START=\"Start\",\n",
    "            FLAG=\"Flag\",\n",
    "            CIGAR=\"Cigar\",\n",
    "            LENGTH=\"SeqLen\",\n",
    "            SEQ=\"Seq\",\n",
    "        ),\n",
    "        axis=1,\n",
    "    )\n",
    "    bam_df.loc[:, \"SeqLen\"] = bam_df[\"Seq\"].str.len()\n",
    "    # strip terminal \"-1\" in CB\n",
    "    bam_df.loc[:, \"CB\"] = bam_df[\"CB\"].str.replace(\"-1$\", \"\", regex=True)\n",
    "\n",
    "    # filter\n",
    "    qmin = c[\"MAPQmin\"]\n",
    "    bam_df = bam_df.sort_values([\"Start\", \"CB\", \"UB\"]).query(\"MAPQ > @qmin\")\n",
    "    return bam_df\n"
   ]
  },
  {
   "cell_type": "code",
   "execution_count": null,
   "metadata": {
    "ExecuteTime": {
     "end_time": "2021-06-23T10:13:40.086449Z",
     "start_time": "2021-06-23T10:13:39.947422Z"
    }
   },
   "outputs": [],
   "source": [
    "bam_file = \"hMelanoma_5prime_Connect_90x2.bam\"\n",
    "df = bam2df(bam_file, config=config)\n",
    "df"
   ]
  },
  {
   "cell_type": "markdown",
   "metadata": {},
   "source": [
    "## extract End from cigar"
   ]
  },
  {
   "cell_type": "code",
   "execution_count": null,
   "metadata": {
    "ExecuteTime": {
     "end_time": "2021-06-23T10:19:25.419995Z",
     "start_time": "2021-06-23T10:19:25.411968Z"
    }
   },
   "outputs": [],
   "source": [
    "def get_intron_pos(df, intron=[0, 1]):\n",
    "    \"\"\"\n",
    "    detect the read position relative to the intron:\n",
    "\n",
    "    #### IntronPosAbs:\n",
    "    0: Left\n",
    "    1: spanningLeft\n",
    "    2: within intron\n",
    "    3: over intron\n",
    "    4: spanningRight\n",
    "    5: Right\n",
    "    #### IntronPos:\n",
    "    0: outside\n",
    "    1: spanning exon-intron border\n",
    "    2: within intron\n",
    "    3: over intron\n",
    "    \"\"\"\n",
    "\n",
    "    cols = [\"M1\", \"N\", \"M2\"]\n",
    "    # extract End Position from cigar string\n",
    "    df.loc[:, cols] = df[\"Cigar\"].str.extract(\n",
    "        \"^(?:[0-9]+S)?(?:(?P<M1>[0-9]+)M)(?:(?P<N>[0-9]+)N)?(?:(?P<M2>[0-9]+)M)?$\"\n",
    "    )\n",
    "    for col in cols:\n",
    "        df.loc[:, col] = df[col].fillna(0).astype(int)\n",
    "\n",
    "    # write less do more\n",
    "    i0 = intron[0]\n",
    "    i1 = intron[1]\n",
    "    # get absolute intron pos as accumulated intron bool conditions of Start and End coords\n",
    "    df.loc[:, \"GenLen\"] = df[\"M1\"] + df[\"N\"] + df[\"M2\"]\n",
    "    df.loc[:, \"End\"] = df[\"Start\"] + df[\"GenLen\"]\n",
    "    df.loc[:, \"IntronPosAbs\"] = (\n",
    "        (df[\"Start\"] > i0).astype(int)\n",
    "        + (df[\"Start\"] > i1).astype(int)\n",
    "        + (df[\"End\"] > i0).astype(int)\n",
    "        + (df[\"End\"] > i1).astype(int) * 2\n",
    "    )\n",
    "    df.loc[df[\"IntronPosAbs\"] > 3, \"IntronPos\"] = 5 - df[\"IntronPosAbs\"]\n",
    "    df.loc[df[\"IntronPosAbs\"] < 4, \"IntronPos\"] = df[\"IntronPosAbs\"]\n",
    "    df.loc[:, \"IntronPos\"] = df[\"IntronPos\"].astype(int)\n",
    "    base_cols = [\n",
    "        \"CB\",\n",
    "        \"UB\",\n",
    "        \"IntronPos\",\n",
    "        \"IntronPosAbs\",\n",
    "        \"Chr\",\n",
    "        \"Start\",\n",
    "        \"End\",\n",
    "        \"Cigar\",\n",
    "        \"GenLen\",\n",
    "        \"Seq\",\n",
    "        \"SeqLen\",\n",
    "        \"MAPQ\",\n",
    "        \"Flag\",\n",
    "    ]\n",
    "    return df.loc[:, base_cols]"
   ]
  },
  {
   "cell_type": "code",
   "execution_count": null,
   "metadata": {
    "ExecuteTime": {
     "end_time": "2021-06-23T10:19:32.362704Z",
     "start_time": "2021-06-23T10:19:32.309450Z"
    }
   },
   "outputs": [],
   "source": [
    "intron_df = get_intron_pos(df, intron=[71616506,71616845])\n",
    "intron_df"
   ]
  },
  {
   "cell_type": "markdown",
   "metadata": {},
   "source": [
    "#### IntronPosAbs\n",
    "+ 0: left\n",
    "+ 1: spanning left\n",
    "+ 2: within intron\n",
    "+ 3: over intron\n",
    "+ 4: spanning right\n",
    "+ 5: right\n",
    "#### IntronPos\n",
    "+ 0: outside\n",
    "+ 1: spanning exon-intron border\n",
    "+ 2: within intron\n",
    "+ 3: over intron"
   ]
  },
  {
   "cell_type": "code",
   "execution_count": null,
   "metadata": {
    "ExecuteTime": {
     "end_time": "2021-06-22T21:44:34.870520Z",
     "start_time": "2021-06-22T21:44:34.854870Z"
    }
   },
   "outputs": [],
   "source": [
    "UB_df = intron_df.query('CB == \"AAACCTGAGATATGCA\" and UB == \"ACAAGTCCT\"')\n",
    "UB_df"
   ]
  },
  {
   "cell_type": "markdown",
   "metadata": {},
   "source": [
    "### master function"
   ]
  },
  {
   "cell_type": "code",
   "execution_count": null,
   "metadata": {
    "ExecuteTime": {
     "end_time": "2021-06-23T10:37:34.852509Z",
     "start_time": "2021-06-23T10:37:34.844966Z"
    }
   },
   "outputs": [],
   "source": [
    "def get_Alt(df):\n",
    "    s = pd.Series(dict(\n",
    "        Alt=(df['IntronPos'] == 3).sum(),\n",
    "        AB = ((df['IntronPos'] > 0) & (df['IntronPos'] < 3)).sum(),\n",
    "        Irr = (df['IntronPos'] ==0).sum()\n",
    "    ))\n",
    "    return s\n",
    "\n",
    "def detect_CXCR3Alt(bam_file, region=\"\", bed_file=\"\", intron=[], config={}):\n",
    "    \"\"\"\n",
    "    master func\n",
    "    \"\"\"\n",
    "    show_output(f\"Loading bam file {bam_file}.\")\n",
    "    df = bam2df(bam_file, region=region, bed=bed_file, config=config)\n",
    "    show_output(\n",
    "        f\"Detected a total of {len(df['UB'].unique())} molecules in {len(df['CB'].unique())} cells\"\n",
    "    )\n",
    "\n",
    "    show_output(f\"Looking for intron events in {len(df.index)} reads.\")\n",
    "\n",
    "    intron_df = get_intron_pos(df, intron=intron)\n",
    "    show_output(\n",
    "        f\"Detected {len(intron_df.query('IntronPos > 0').index)} reads with intron involvement\"\n",
    "    )\n",
    "\n",
    "    alt_df = intron_df.groupby([\"CB\", \"UB\"]).apply(get_Alt).reset_index()\n",
    "    t_df = alt_df.query(\"Alt > 0 or AB > 0\")\n",
    "    show_output(\n",
    "        f\"Detected a total of {len(t_df['UB'].unique())} molecules with intron involvement in {len(t_df['CB'].unique())} cells\",\n",
    "        color=\"success\",\n",
    "    )\n",
    "    return t_df"
   ]
  },
  {
   "cell_type": "code",
   "execution_count": null,
   "metadata": {
    "ExecuteTime": {
     "end_time": "2021-06-22T22:04:00.107287Z",
     "start_time": "2021-06-22T22:03:57.986050Z"
    }
   },
   "outputs": [],
   "source": [
    "bam_file = \"hMelanoma_5prime_Connect_90x2.bam\"\n",
    "intron=[71616506,71616845]\n",
    "alt_df = detect_CXCR3Alt(bam_file, intron=intron, config=config)"
   ]
  }
 ],
 "metadata": {
  "kernelspec": {
   "display_name": "Python 3",
   "language": "python",
   "name": "python3"
  },
  "language_info": {
   "codemirror_mode": {
    "name": "ipython",
    "version": 3
   },
   "file_extension": ".py",
   "mimetype": "text/x-python",
   "name": "python",
   "nbconvert_exporter": "python",
   "pygments_lexer": "ipython3",
   "version": "3.9.2"
  },
  "varInspector": {
   "cols": {
    "lenName": 16,
    "lenType": 16,
    "lenVar": 40
   },
   "kernels_config": {
    "python": {
     "delete_cmd_postfix": "",
     "delete_cmd_prefix": "del ",
     "library": "var_list.py",
     "varRefreshCmd": "print(var_dic_list())"
    },
    "r": {
     "delete_cmd_postfix": ") ",
     "delete_cmd_prefix": "rm(",
     "library": "var_list.r",
     "varRefreshCmd": "cat(var_dic_list()) "
    }
   },
   "types_to_exclude": [
    "module",
    "function",
    "builtin_function_or_method",
    "instance",
    "_Feature"
   ],
   "window_display": false
  }
 },
 "nbformat": 4,
 "nbformat_minor": 4
}
